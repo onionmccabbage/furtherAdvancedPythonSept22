{
 "cells": [
  {
   "cell_type": "markdown",
   "id": "f64cf766",
   "metadata": {},
   "source": [
    "# Functions and Mapping"
   ]
  },
  {
   "cell_type": "code",
   "execution_count": null,
   "id": "a919004e",
   "metadata": {},
   "outputs": [],
   "source": [
    "import numpy as np\n",
    "import pandas as pd"
   ]
  },
  {
   "cell_type": "code",
   "execution_count": 32,
   "id": "0f577394",
   "metadata": {},
   "outputs": [
    {
     "data": {
      "text/html": [
       "<div>\n",
       "<style scoped>\n",
       "    .dataframe tbody tr th:only-of-type {\n",
       "        vertical-align: middle;\n",
       "    }\n",
       "\n",
       "    .dataframe tbody tr th {\n",
       "        vertical-align: top;\n",
       "    }\n",
       "\n",
       "    .dataframe thead th {\n",
       "        text-align: right;\n",
       "    }\n",
       "</style>\n",
       "<table border=\"1\" class=\"dataframe\">\n",
       "  <thead>\n",
       "    <tr style=\"text-align: right;\">\n",
       "      <th></th>\n",
       "      <th>b</th>\n",
       "      <th>d</th>\n",
       "      <th>e</th>\n",
       "    </tr>\n",
       "  </thead>\n",
       "  <tbody>\n",
       "    <tr>\n",
       "      <th>0</th>\n",
       "      <td>0.651796</td>\n",
       "      <td>0.156679</td>\n",
       "      <td>0.607470</td>\n",
       "    </tr>\n",
       "    <tr>\n",
       "      <th>1</th>\n",
       "      <td>0.107305</td>\n",
       "      <td>0.121260</td>\n",
       "      <td>0.168799</td>\n",
       "    </tr>\n",
       "    <tr>\n",
       "      <th>2</th>\n",
       "      <td>1.500812</td>\n",
       "      <td>0.212000</td>\n",
       "      <td>0.533412</td>\n",
       "    </tr>\n",
       "    <tr>\n",
       "      <th>3</th>\n",
       "      <td>0.994979</td>\n",
       "      <td>0.143402</td>\n",
       "      <td>0.579549</td>\n",
       "    </tr>\n",
       "  </tbody>\n",
       "</table>\n",
       "</div>"
      ],
      "text/plain": [
       "          b         d         e\n",
       "0  0.651796  0.156679  0.607470\n",
       "1  0.107305  0.121260  0.168799\n",
       "2  1.500812  0.212000  0.533412\n",
       "3  0.994979  0.143402  0.579549"
      ]
     },
     "execution_count": 32,
     "metadata": {},
     "output_type": "execute_result"
    }
   ],
   "source": [
    "values = np.random.randn(4,3)\n",
    "cols = list('bde')\n",
    "frame = pd.DataFrame(values, columns=cols)\n",
    "frame\n",
    "# we can force all values ot be positive with 'abs'\n",
    "frame = np.abs(frame)\n",
    "frame"
   ]
  },
  {
   "cell_type": "markdown",
   "id": "7479d9b4",
   "metadata": {},
   "source": [
    "## we can apply a function to every member of our data frame"
   ]
  },
  {
   "cell_type": "code",
   "execution_count": 36,
   "id": "14c44d3b",
   "metadata": {},
   "outputs": [
    {
     "data": {
      "text/plain": [
       "0    0.495117\n",
       "1    0.061494\n",
       "2    1.288813\n",
       "3    0.851577\n",
       "dtype: float64"
      ]
     },
     "execution_count": 36,
     "metadata": {},
     "output_type": "execute_result"
    }
   ],
   "source": [
    "fn = lambda x:x.max()-x.min() # the difference between max and min\n",
    "frame.apply(fn, axis='columns') # same as axis=1\n"
   ]
  },
  {
   "cell_type": "code",
   "execution_count": 41,
   "id": "514800b5",
   "metadata": {},
   "outputs": [
    {
     "data": {
      "text/html": [
       "<div>\n",
       "<style scoped>\n",
       "    .dataframe tbody tr th:only-of-type {\n",
       "        vertical-align: middle;\n",
       "    }\n",
       "\n",
       "    .dataframe tbody tr th {\n",
       "        vertical-align: top;\n",
       "    }\n",
       "\n",
       "    .dataframe thead th {\n",
       "        text-align: right;\n",
       "    }\n",
       "</style>\n",
       "<table border=\"1\" class=\"dataframe\">\n",
       "  <thead>\n",
       "    <tr style=\"text-align: right;\">\n",
       "      <th></th>\n",
       "      <th>b</th>\n",
       "      <th>d</th>\n",
       "      <th>e</th>\n",
       "    </tr>\n",
       "  </thead>\n",
       "  <tbody>\n",
       "    <tr>\n",
       "      <th>min</th>\n",
       "      <td>0.107305</td>\n",
       "      <td>0.12126</td>\n",
       "      <td>0.168799</td>\n",
       "    </tr>\n",
       "    <tr>\n",
       "      <th>max</th>\n",
       "      <td>1.500812</td>\n",
       "      <td>0.21200</td>\n",
       "      <td>0.607470</td>\n",
       "    </tr>\n",
       "  </tbody>\n",
       "</table>\n",
       "</div>"
      ],
      "text/plain": [
       "            b        d         e\n",
       "min  0.107305  0.12126  0.168799\n",
       "max  1.500812  0.21200  0.607470"
      ]
     },
     "execution_count": 41,
     "metadata": {},
     "output_type": "execute_result"
    }
   ],
   "source": [
    "def fnB(x): # this argument x will be used in the fn\n",
    "    facets = [x.min(), x.max()]\n",
    "    idx = ['min','max']\n",
    "    return pd.Series(facets, index=idx)\n",
    "res = frame.apply(fnB)\n",
    "res"
   ]
  },
  {
   "cell_type": "code",
   "execution_count": null,
   "id": "ada5cda5",
   "metadata": {},
   "outputs": [],
   "source": []
  },
  {
   "cell_type": "code",
   "execution_count": null,
   "id": "17caca6f",
   "metadata": {},
   "outputs": [],
   "source": []
  }
 ],
 "metadata": {
  "kernelspec": {
   "display_name": "Python 3 (ipykernel)",
   "language": "python",
   "name": "python3"
  },
  "language_info": {
   "codemirror_mode": {
    "name": "ipython",
    "version": 3
   },
   "file_extension": ".py",
   "mimetype": "text/x-python",
   "name": "python",
   "nbconvert_exporter": "python",
   "pygments_lexer": "ipython3",
   "version": "3.9.12"
  }
 },
 "nbformat": 4,
 "nbformat_minor": 5
}
