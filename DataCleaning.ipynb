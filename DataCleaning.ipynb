{
 "cells": [
  {
   "cell_type": "markdown",
   "id": "85c945b7",
   "metadata": {},
   "source": [
    "# Preparing and Cleaning Data"
   ]
  },
  {
   "cell_type": "code",
   "execution_count": 1,
   "id": "10f02981",
   "metadata": {},
   "outputs": [],
   "source": [
    "import numpy as np\n",
    "import pandas as pd"
   ]
  },
  {
   "cell_type": "code",
   "execution_count": 6,
   "id": "92d7e03c",
   "metadata": {},
   "outputs": [
    {
     "data": {
      "text/plain": [
       "0     True\n",
       "1     True\n",
       "2    False\n",
       "3     True\n",
       "dtype: bool"
      ]
     },
     "execution_count": 6,
     "metadata": {},
     "output_type": "execute_result"
    }
   ],
   "source": [
    "d = ['A', 'B', np.nan, 'D']\n",
    "y = pd.Series(d) # or all on one line\n",
    "y.isnull() # really handy way to spot if there are missing values\n",
    "y.notnull()"
   ]
  },
  {
   "cell_type": "code",
   "execution_count": 12,
   "id": "19428f4c",
   "metadata": {},
   "outputs": [
    {
     "data": {
      "text/plain": [
       "0    A\n",
       "1    B\n",
       "2    Z\n",
       "3    D\n",
       "dtype: object"
      ]
     },
     "execution_count": 12,
     "metadata": {},
     "output_type": "execute_result"
    }
   ],
   "source": [
    "# we can simply fill missing values\n",
    "y.fillna('Z', inplace=True) # does not persist unless we use inplace=True\n",
    "# or we could say y = y.fillna(...)\n",
    "y"
   ]
  },
  {
   "cell_type": "code",
   "execution_count": 15,
   "id": "e2cf6c36",
   "metadata": {},
   "outputs": [
    {
     "data": {
      "text/plain": [
       "0    A\n",
       "1    B\n",
       "3    D\n",
       "dtype: object"
      ]
     },
     "execution_count": 15,
     "metadata": {},
     "output_type": "execute_result"
    }
   ],
   "source": [
    "# Drop missing data\n",
    "y[2] = np.nan # put the problem back in\n",
    "x = y.dropna() # non-persisten: any missing values are simply dropped\n",
    "x"
   ]
  },
  {
   "cell_type": "markdown",
   "id": "02f9559b",
   "metadata": {},
   "source": [
    "## Strategies for replacing missing data"
   ]
  },
  {
   "cell_type": "code",
   "execution_count": 38,
   "id": "1b3609a0",
   "metadata": {},
   "outputs": [
    {
     "data": {
      "text/html": [
       "<div>\n",
       "<style scoped>\n",
       "    .dataframe tbody tr th:only-of-type {\n",
       "        vertical-align: middle;\n",
       "    }\n",
       "\n",
       "    .dataframe tbody tr th {\n",
       "        vertical-align: top;\n",
       "    }\n",
       "\n",
       "    .dataframe thead th {\n",
       "        text-align: right;\n",
       "    }\n",
       "</style>\n",
       "<table border=\"1\" class=\"dataframe\">\n",
       "  <thead>\n",
       "    <tr style=\"text-align: right;\">\n",
       "      <th></th>\n",
       "      <th>0</th>\n",
       "      <th>1</th>\n",
       "      <th>2</th>\n",
       "    </tr>\n",
       "  </thead>\n",
       "  <tbody>\n",
       "    <tr>\n",
       "      <th>0</th>\n",
       "      <td>-0.168228</td>\n",
       "      <td>-1.308364</td>\n",
       "      <td>-1.698867</td>\n",
       "    </tr>\n",
       "    <tr>\n",
       "      <th>1</th>\n",
       "      <td>2.828216</td>\n",
       "      <td>-2.204205</td>\n",
       "      <td>0.124133</td>\n",
       "    </tr>\n",
       "    <tr>\n",
       "      <th>2</th>\n",
       "      <td>-1.806593</td>\n",
       "      <td>-0.464398</td>\n",
       "      <td>-0.116629</td>\n",
       "    </tr>\n",
       "    <tr>\n",
       "      <th>3</th>\n",
       "      <td>-1.305852</td>\n",
       "      <td>-0.770174</td>\n",
       "      <td>-0.389876</td>\n",
       "    </tr>\n",
       "    <tr>\n",
       "      <th>4</th>\n",
       "      <td>-0.066852</td>\n",
       "      <td>0.380923</td>\n",
       "      <td>-0.809339</td>\n",
       "    </tr>\n",
       "  </tbody>\n",
       "</table>\n",
       "</div>"
      ],
      "text/plain": [
       "          0         1         2\n",
       "0 -0.168228 -1.308364 -1.698867\n",
       "1  2.828216 -2.204205  0.124133\n",
       "2 -1.806593 -0.464398 -0.116629\n",
       "3 -1.305852 -0.770174 -0.389876\n",
       "4 -0.066852  0.380923 -0.809339"
      ]
     },
     "execution_count": 38,
     "metadata": {},
     "output_type": "execute_result"
    }
   ],
   "source": [
    "# here is a simple df to work with\n",
    "df = pd.DataFrame(np.random.randn(10,3))\n",
    "df.head()"
   ]
  },
  {
   "cell_type": "code",
   "execution_count": 39,
   "id": "92f3840a",
   "metadata": {},
   "outputs": [
    {
     "data": {
      "text/html": [
       "<div>\n",
       "<style scoped>\n",
       "    .dataframe tbody tr th:only-of-type {\n",
       "        vertical-align: middle;\n",
       "    }\n",
       "\n",
       "    .dataframe tbody tr th {\n",
       "        vertical-align: top;\n",
       "    }\n",
       "\n",
       "    .dataframe thead th {\n",
       "        text-align: right;\n",
       "    }\n",
       "</style>\n",
       "<table border=\"1\" class=\"dataframe\">\n",
       "  <thead>\n",
       "    <tr style=\"text-align: right;\">\n",
       "      <th></th>\n",
       "      <th>0</th>\n",
       "      <th>1</th>\n",
       "      <th>2</th>\n",
       "    </tr>\n",
       "  </thead>\n",
       "  <tbody>\n",
       "    <tr>\n",
       "      <th>0</th>\n",
       "      <td>-0.168228</td>\n",
       "      <td>NaN</td>\n",
       "      <td>NaN</td>\n",
       "    </tr>\n",
       "    <tr>\n",
       "      <th>1</th>\n",
       "      <td>2.828216</td>\n",
       "      <td>NaN</td>\n",
       "      <td>NaN</td>\n",
       "    </tr>\n",
       "    <tr>\n",
       "      <th>2</th>\n",
       "      <td>-1.806593</td>\n",
       "      <td>NaN</td>\n",
       "      <td>-0.116629</td>\n",
       "    </tr>\n",
       "    <tr>\n",
       "      <th>3</th>\n",
       "      <td>-1.305852</td>\n",
       "      <td>NaN</td>\n",
       "      <td>-0.389876</td>\n",
       "    </tr>\n",
       "    <tr>\n",
       "      <th>4</th>\n",
       "      <td>-0.066852</td>\n",
       "      <td>0.380923</td>\n",
       "      <td>-0.809339</td>\n",
       "    </tr>\n",
       "  </tbody>\n",
       "</table>\n",
       "</div>"
      ],
      "text/plain": [
       "          0         1         2\n",
       "0 -0.168228       NaN       NaN\n",
       "1  2.828216       NaN       NaN\n",
       "2 -1.806593       NaN -0.116629\n",
       "3 -1.305852       NaN -0.389876\n",
       "4 -0.066852  0.380923 -0.809339"
      ]
     },
     "execution_count": 39,
     "metadata": {},
     "output_type": "execute_result"
    }
   ],
   "source": [
    "# we inject some problematic values\n",
    "df.iloc[:4,1] = np.nan # naturally these changes do persist\n",
    "df.iloc[:2,2] = np.nan\n",
    "df.head(5)"
   ]
  },
  {
   "cell_type": "code",
   "execution_count": 51,
   "id": "6370d356",
   "metadata": {
    "scrolled": true
   },
   "outputs": [
    {
     "data": {
      "text/html": [
       "<div>\n",
       "<style scoped>\n",
       "    .dataframe tbody tr th:only-of-type {\n",
       "        vertical-align: middle;\n",
       "    }\n",
       "\n",
       "    .dataframe tbody tr th {\n",
       "        vertical-align: top;\n",
       "    }\n",
       "\n",
       "    .dataframe thead th {\n",
       "        text-align: right;\n",
       "    }\n",
       "</style>\n",
       "<table border=\"1\" class=\"dataframe\">\n",
       "  <thead>\n",
       "    <tr style=\"text-align: right;\">\n",
       "      <th></th>\n",
       "      <th>0</th>\n",
       "      <th>1</th>\n",
       "      <th>2</th>\n",
       "    </tr>\n",
       "  </thead>\n",
       "  <tbody>\n",
       "    <tr>\n",
       "      <th>0</th>\n",
       "      <td>-0.168228</td>\n",
       "      <td>-0.373034</td>\n",
       "      <td>-0.217447</td>\n",
       "    </tr>\n",
       "    <tr>\n",
       "      <th>1</th>\n",
       "      <td>2.828216</td>\n",
       "      <td>-0.373034</td>\n",
       "      <td>-0.217447</td>\n",
       "    </tr>\n",
       "    <tr>\n",
       "      <th>2</th>\n",
       "      <td>-1.806593</td>\n",
       "      <td>-0.373034</td>\n",
       "      <td>-0.116629</td>\n",
       "    </tr>\n",
       "    <tr>\n",
       "      <th>3</th>\n",
       "      <td>-1.305852</td>\n",
       "      <td>-0.373034</td>\n",
       "      <td>-0.389876</td>\n",
       "    </tr>\n",
       "    <tr>\n",
       "      <th>4</th>\n",
       "      <td>-0.066852</td>\n",
       "      <td>0.380923</td>\n",
       "      <td>-0.809339</td>\n",
       "    </tr>\n",
       "    <tr>\n",
       "      <th>5</th>\n",
       "      <td>-0.949886</td>\n",
       "      <td>-1.321170</td>\n",
       "      <td>0.947123</td>\n",
       "    </tr>\n",
       "    <tr>\n",
       "      <th>6</th>\n",
       "      <td>0.356295</td>\n",
       "      <td>-2.908152</td>\n",
       "      <td>0.793289</td>\n",
       "    </tr>\n",
       "    <tr>\n",
       "      <th>7</th>\n",
       "      <td>-1.025723</td>\n",
       "      <td>1.026871</td>\n",
       "      <td>-1.330270</td>\n",
       "    </tr>\n",
       "    <tr>\n",
       "      <th>8</th>\n",
       "      <td>-0.431662</td>\n",
       "      <td>-0.060493</td>\n",
       "      <td>-0.825608</td>\n",
       "    </tr>\n",
       "    <tr>\n",
       "      <th>9</th>\n",
       "      <td>-2.251427</td>\n",
       "      <td>0.643817</td>\n",
       "      <td>-0.008267</td>\n",
       "    </tr>\n",
       "  </tbody>\n",
       "</table>\n",
       "</div>"
      ],
      "text/plain": [
       "          0         1         2\n",
       "0 -0.168228 -0.373034 -0.217447\n",
       "1  2.828216 -0.373034 -0.217447\n",
       "2 -1.806593 -0.373034 -0.116629\n",
       "3 -1.305852 -0.373034 -0.389876\n",
       "4 -0.066852  0.380923 -0.809339\n",
       "5 -0.949886 -1.321170  0.947123\n",
       "6  0.356295 -2.908152  0.793289\n",
       "7 -1.025723  1.026871 -1.330270\n",
       "8 -0.431662 -0.060493 -0.825608\n",
       "9 -2.251427  0.643817 -0.008267"
      ]
     },
     "execution_count": 51,
     "metadata": {},
     "output_type": "execute_result"
    }
   ],
   "source": [
    "# there are several approaches to solving this problem\n",
    "df.fillna(method='ffill', axis=1) # fills across the rows (no persistence)\n",
    "df.fillna({1:0.5, 2:0.8}) # inject specific separate values via a set\n",
    "df.dropna(thresh=2) # remove any row with up to two NaN values\n",
    "df.fillna(method='ffill', axis=1, limit=1) # only fill one value\n",
    "# perhaps a better strategy is to interpolate from other values\n",
    "# for small proportions of data this may be acceptable\n",
    "df.fillna(df.mean()) # fill NaN with the mean for that column, ignore NaN inthe mean calculation"
   ]
  },
  {
   "cell_type": "code",
   "execution_count": 52,
   "id": "f64a12bb",
   "metadata": {},
   "outputs": [
    {
     "data": {
      "text/html": [
       "<div>\n",
       "<style scoped>\n",
       "    .dataframe tbody tr th:only-of-type {\n",
       "        vertical-align: middle;\n",
       "    }\n",
       "\n",
       "    .dataframe tbody tr th {\n",
       "        vertical-align: top;\n",
       "    }\n",
       "\n",
       "    .dataframe thead th {\n",
       "        text-align: right;\n",
       "    }\n",
       "</style>\n",
       "<table border=\"1\" class=\"dataframe\">\n",
       "  <thead>\n",
       "    <tr style=\"text-align: right;\">\n",
       "      <th></th>\n",
       "      <th>0</th>\n",
       "      <th>1</th>\n",
       "      <th>2</th>\n",
       "    </tr>\n",
       "  </thead>\n",
       "  <tbody>\n",
       "    <tr>\n",
       "      <th>0</th>\n",
       "      <td>-0.168228</td>\n",
       "      <td>-0.373034</td>\n",
       "      <td>-0.373034</td>\n",
       "    </tr>\n",
       "    <tr>\n",
       "      <th>1</th>\n",
       "      <td>2.828216</td>\n",
       "      <td>-0.373034</td>\n",
       "      <td>-0.373034</td>\n",
       "    </tr>\n",
       "    <tr>\n",
       "      <th>2</th>\n",
       "      <td>-1.806593</td>\n",
       "      <td>-0.373034</td>\n",
       "      <td>-0.116629</td>\n",
       "    </tr>\n",
       "    <tr>\n",
       "      <th>3</th>\n",
       "      <td>-1.305852</td>\n",
       "      <td>-0.373034</td>\n",
       "      <td>-0.389876</td>\n",
       "    </tr>\n",
       "    <tr>\n",
       "      <th>4</th>\n",
       "      <td>-0.066852</td>\n",
       "      <td>0.380923</td>\n",
       "      <td>-0.809339</td>\n",
       "    </tr>\n",
       "    <tr>\n",
       "      <th>5</th>\n",
       "      <td>-0.949886</td>\n",
       "      <td>-1.321170</td>\n",
       "      <td>0.947123</td>\n",
       "    </tr>\n",
       "    <tr>\n",
       "      <th>6</th>\n",
       "      <td>0.356295</td>\n",
       "      <td>-2.908152</td>\n",
       "      <td>0.793289</td>\n",
       "    </tr>\n",
       "    <tr>\n",
       "      <th>7</th>\n",
       "      <td>-1.025723</td>\n",
       "      <td>1.026871</td>\n",
       "      <td>-1.330270</td>\n",
       "    </tr>\n",
       "    <tr>\n",
       "      <th>8</th>\n",
       "      <td>-0.431662</td>\n",
       "      <td>-0.060493</td>\n",
       "      <td>-0.825608</td>\n",
       "    </tr>\n",
       "    <tr>\n",
       "      <th>9</th>\n",
       "      <td>-2.251427</td>\n",
       "      <td>0.643817</td>\n",
       "      <td>-0.008267</td>\n",
       "    </tr>\n",
       "  </tbody>\n",
       "</table>\n",
       "</div>"
      ],
      "text/plain": [
       "          0         1         2\n",
       "0 -0.168228 -0.373034 -0.373034\n",
       "1  2.828216 -0.373034 -0.373034\n",
       "2 -1.806593 -0.373034 -0.116629\n",
       "3 -1.305852 -0.373034 -0.389876\n",
       "4 -0.066852  0.380923 -0.809339\n",
       "5 -0.949886 -1.321170  0.947123\n",
       "6  0.356295 -2.908152  0.793289\n",
       "7 -1.025723  1.026871 -1.330270\n",
       "8 -0.431662 -0.060493 -0.825608\n",
       "9 -2.251427  0.643817 -0.008267"
      ]
     },
     "execution_count": 52,
     "metadata": {},
     "output_type": "execute_result"
    }
   ],
   "source": [
    "# Here then is one suggestion for this data set\n",
    "c1_mean= df.iloc[:, 1].mean()\n",
    "df.fillna(c1_mean, inplace=True) # careful - we may lose the original data\n",
    "df"
   ]
  },
  {
   "cell_type": "code",
   "execution_count": null,
   "id": "b3e760df",
   "metadata": {},
   "outputs": [],
   "source": []
  }
 ],
 "metadata": {
  "kernelspec": {
   "display_name": "Python 3 (ipykernel)",
   "language": "python",
   "name": "python3"
  },
  "language_info": {
   "codemirror_mode": {
    "name": "ipython",
    "version": 3
   },
   "file_extension": ".py",
   "mimetype": "text/x-python",
   "name": "python",
   "nbconvert_exporter": "python",
   "pygments_lexer": "ipython3",
   "version": "3.9.12"
  }
 },
 "nbformat": 4,
 "nbformat_minor": 5
}
