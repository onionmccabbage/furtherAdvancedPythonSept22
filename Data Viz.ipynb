{
 "cells": [
  {
   "cell_type": "markdown",
   "id": "a538cd5c",
   "metadata": {},
   "source": [
    "## Visualizing Data using MatPlotLib"
   ]
  },
  {
   "cell_type": "code",
   "execution_count": 1,
   "id": "a89d54b6",
   "metadata": {},
   "outputs": [],
   "source": [
    "import pandas as pd\n",
    "import numpy as np\n",
    "import matplotlib.pyplot as plt"
   ]
  },
  {
   "cell_type": "code",
   "execution_count": 2,
   "id": "21067688",
   "metadata": {},
   "outputs": [],
   "source": [
    "# we may need to use the percent-syntax for inline charts\n",
    "# not always needed....\n",
    "%matplotlib inline "
   ]
  },
  {
   "cell_type": "code",
   "execution_count": 3,
   "id": "c23973eb",
   "metadata": {},
   "outputs": [],
   "source": [
    "# declare values for x and for y\n",
    "x = np.arange(5)\n",
    "y = 3 + np.random.rand(5)"
   ]
  },
  {
   "cell_type": "code",
   "execution_count": 4,
   "id": "288bb6e7",
   "metadata": {},
   "outputs": [
    {
     "data": {
      "text/plain": [
       "<BarContainer object of 5 artists>"
      ]
     },
     "execution_count": 4,
     "metadata": {},
     "output_type": "execute_result"
    },
    {
     "data": {
      "image/png": "[encoded data removed]",
      "text/plain": [
       "<Figure size 432x288 with 2 Axes>"
      ]
     },
     "metadata": {
      "needs_background": "light"
     },
     "output_type": "display_data"
    }
   ],
   "source": [
    "# to plot, we can declare a subplot arrangement\n",
    "plt.subplots(2) # 2,2 3,2 etc for a grid of plots\n",
    "plt.subplot(211) # refer to one of the subplots\n",
    "plt.bar(x, y)\n",
    "plt.title('Vertical Bars')\n",
    "plt.plot()\n",
    "\n",
    "# another subplot\n",
    "plt.subplot(212)\n",
    "plt.title('Horizontal Bars')\n",
    "plt.barh(x, y, align='center', color='b', alpha=0.4)"
   ]
  },
  {
   "cell_type": "markdown",
   "id": "b0f3d83e",
   "metadata": {},
   "source": [
    "## Line Chart"
   ]
  },
  {
   "cell_type": "code",
   "execution_count": 5,
   "id": "8b6750d8",
   "metadata": {},
   "outputs": [
    {
     "data": {
      "text/plain": [
       "Text(0, 0.5, 'squares')"
      ]
     },
     "execution_count": 5,
     "metadata": {},
     "output_type": "execute_result"
    },
    {
     "data": {
      "image/png": "[encoded data removed]",
      "text/plain": [
       "<Figure size 432x288 with 1 Axes>"
      ]
     },
     "metadata": {
      "needs_background": "light"
     },
     "output_type": "display_data"
    }
   ],
   "source": [
    "x = np.linspace(0,3,6) # linear progression\n",
    "y = np.power(x, 2)\n",
    "plt.axis([0,4, 0,10]) # x will be 0-6, y will be 0-10\n",
    "plt.plot(x, y) # defaults to a line chart\n",
    "plt.xlabel('lin prog')\n",
    "plt.ylabel('squares')"
   ]
  },
  {
   "cell_type": "code",
   "execution_count": null,
   "id": "22f78bf6",
   "metadata": {},
   "outputs": [],
   "source": []
  },
  {
   "cell_type": "code",
   "execution_count": null,
   "id": "d7cecc18",
   "metadata": {},
   "outputs": [],
   "source": []
  },
  {
   "cell_type": "code",
   "execution_count": null,
   "id": "295f76c2",
   "metadata": {},
   "outputs": [],
   "source": []
  },
  {
   "cell_type": "code",
   "execution_count": null,
   "id": "45366cc0",
   "metadata": {},
   "outputs": [],
   "source": []
  },
  {
   "cell_type": "code",
   "execution_count": null,
   "id": "e7b65979",
   "metadata": {},
   "outputs": [],
   "source": []
  }
 ],
 "metadata": {
  "kernelspec": {
   "display_name": "Python 3 (ipykernel)",
   "language": "python",
   "name": "python3"
  },
  "language_info": {
   "codemirror_mode": {
    "name": "ipython",
    "version": 3
   },
   "file_extension": ".py",
   "mimetype": "text/x-python",
   "name": "python",
   "nbconvert_exporter": "python",
   "pygments_lexer": "ipython3",
   "version": "3.9.12"
  }
 },
 "nbformat": 4,
 "nbformat_minor": 5
}
