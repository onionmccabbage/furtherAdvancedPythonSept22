{
 "cells": [
  {
   "cell_type": "markdown",
   "id": "4c43105a",
   "metadata": {},
   "source": [
    "# Time and Date Series"
   ]
  },
  {
   "cell_type": "code",
   "execution_count": 3,
   "id": "f7b5d6c3",
   "metadata": {},
   "outputs": [],
   "source": [
    "import datetime\n",
    "datetime.MAXYEAR\n",
    "from datetime import datetime\n",
    "from datetime import time\n",
    "from datetime import timedelta"
   ]
  },
  {
   "cell_type": "code",
   "execution_count": 22,
   "id": "6db3a27f",
   "metadata": {},
   "outputs": [
    {
     "data": {
      "text/plain": [
       "4424"
      ]
     },
     "execution_count": 22,
     "metadata": {},
     "output_type": "execute_result"
    }
   ],
   "source": [
    "now = datetime.now() # datetime.datetime.now()\n",
    "now # this holds the date-time of the moment it was executed\n",
    "then = datetime(2010, 8, 20)\n",
    "then\n",
    "delta = now-then\n",
    "delta\n",
    "delta.days # we can easily calculate time and date difference"
   ]
  },
  {
   "cell_type": "code",
   "execution_count": 25,
   "id": "9a0c3939",
   "metadata": {},
   "outputs": [
    {
     "data": {
      "text/plain": [
       "'2022/09/30 Friday September'"
      ]
     },
     "execution_count": 25,
     "metadata": {},
     "output_type": "execute_result"
    }
   ],
   "source": [
    "twelve_days = timedelta(12)\n",
    "now + twelve_days\n",
    "now.strftime('%Y/%m/%d %A %B') # make the data into imformation"
   ]
  },
  {
   "cell_type": "markdown",
   "id": "faf091a3",
   "metadata": {},
   "source": [
    "## Time Zones"
   ]
  },
  {
   "cell_type": "code",
   "execution_count": 35,
   "id": "4a475eb6",
   "metadata": {},
   "outputs": [],
   "source": [
    "import pytz\n",
    "import numpy as np\n",
    "import pandas as pd"
   ]
  },
  {
   "cell_type": "code",
   "execution_count": 33,
   "id": "ed4de6ef",
   "metadata": {},
   "outputs": [
    {
     "data": {
      "text/plain": [
       "datetime.datetime(2022, 9, 30, 5, 47, 35, 971093, tzinfo=<DstTzInfo 'America/New_York' EDT-1 day, 20:00:00 DST>)"
      ]
     },
     "execution_count": 33,
     "metadata": {},
     "output_type": "execute_result"
    }
   ],
   "source": [
    "tz = pytz.timezone('America/New_York')\n",
    "tz\n",
    "datetime.now(tz)"
   ]
  },
  {
   "cell_type": "markdown",
   "id": "8d8a72f2",
   "metadata": {},
   "source": [
    "## Read External Data and Handle Dates and Times"
   ]
  },
  {
   "cell_type": "code",
   "execution_count": 56,
   "id": "aa4c18b4",
   "metadata": {},
   "outputs": [
    {
     "data": {
      "text/html": [
       "<div>\n",
       "<style scoped>\n",
       "    .dataframe tbody tr th:only-of-type {\n",
       "        vertical-align: middle;\n",
       "    }\n",
       "\n",
       "    .dataframe tbody tr th {\n",
       "        vertical-align: top;\n",
       "    }\n",
       "\n",
       "    .dataframe thead th {\n",
       "        text-align: right;\n",
       "    }\n",
       "</style>\n",
       "<table border=\"1\" class=\"dataframe\">\n",
       "  <thead>\n",
       "    <tr style=\"text-align: right;\">\n",
       "      <th></th>\n",
       "      <th>Date</th>\n",
       "      <th>Open</th>\n",
       "      <th>High</th>\n",
       "      <th>Low</th>\n",
       "      <th>Close</th>\n",
       "      <th>Volume</th>\n",
       "      <th>ExDividend</th>\n",
       "      <th>SplitRatio</th>\n",
       "      <th>AdjOpen</th>\n",
       "      <th>AdjHigh</th>\n",
       "      <th>AdjLow</th>\n",
       "      <th>AdjClose</th>\n",
       "      <th>AdjVolume</th>\n",
       "    </tr>\n",
       "  </thead>\n",
       "  <tbody>\n",
       "    <tr>\n",
       "      <th>0</th>\n",
       "      <td>2010-01-04</td>\n",
       "      <td>131.18</td>\n",
       "      <td>132.9700</td>\n",
       "      <td>130.85</td>\n",
       "      <td>132.45</td>\n",
       "      <td>6155300</td>\n",
       "      <td>0.0</td>\n",
       "      <td>1</td>\n",
       "      <td>107.034744</td>\n",
       "      <td>108.495272</td>\n",
       "      <td>106.765484</td>\n",
       "      <td>108.070985</td>\n",
       "      <td>6155300</td>\n",
       "    </tr>\n",
       "    <tr>\n",
       "      <th>1</th>\n",
       "      <td>2010-01-05</td>\n",
       "      <td>131.68</td>\n",
       "      <td>131.8500</td>\n",
       "      <td>130.10</td>\n",
       "      <td>130.85</td>\n",
       "      <td>6841400</td>\n",
       "      <td>0.0</td>\n",
       "      <td>1</td>\n",
       "      <td>107.442712</td>\n",
       "      <td>107.581422</td>\n",
       "      <td>106.153531</td>\n",
       "      <td>106.765484</td>\n",
       "      <td>6841400</td>\n",
       "    </tr>\n",
       "    <tr>\n",
       "      <th>2</th>\n",
       "      <td>2010-01-06</td>\n",
       "      <td>130.68</td>\n",
       "      <td>131.4900</td>\n",
       "      <td>129.81</td>\n",
       "      <td>130.00</td>\n",
       "      <td>5605300</td>\n",
       "      <td>0.0</td>\n",
       "      <td>1</td>\n",
       "      <td>106.626774</td>\n",
       "      <td>107.287684</td>\n",
       "      <td>105.916909</td>\n",
       "      <td>106.071937</td>\n",
       "      <td>5605300</td>\n",
       "    </tr>\n",
       "    <tr>\n",
       "      <th>3</th>\n",
       "      <td>2010-01-07</td>\n",
       "      <td>129.87</td>\n",
       "      <td>130.2500</td>\n",
       "      <td>128.91</td>\n",
       "      <td>129.55</td>\n",
       "      <td>5840600</td>\n",
       "      <td>0.0</td>\n",
       "      <td>1</td>\n",
       "      <td>105.965865</td>\n",
       "      <td>106.275921</td>\n",
       "      <td>105.182564</td>\n",
       "      <td>105.704765</td>\n",
       "      <td>5840600</td>\n",
       "    </tr>\n",
       "    <tr>\n",
       "      <th>4</th>\n",
       "      <td>2010-01-08</td>\n",
       "      <td>129.07</td>\n",
       "      <td>130.9199</td>\n",
       "      <td>129.05</td>\n",
       "      <td>130.85</td>\n",
       "      <td>4197200</td>\n",
       "      <td>0.0</td>\n",
       "      <td>1</td>\n",
       "      <td>105.313114</td>\n",
       "      <td>106.822518</td>\n",
       "      <td>105.296796</td>\n",
       "      <td>106.765484</td>\n",
       "      <td>4197200</td>\n",
       "    </tr>\n",
       "  </tbody>\n",
       "</table>\n",
       "</div>"
      ],
      "text/plain": [
       "        Date    Open      High     Low   Close   Volume  ExDividend  \\\n",
       "0 2010-01-04  131.18  132.9700  130.85  132.45  6155300         0.0   \n",
       "1 2010-01-05  131.68  131.8500  130.10  130.85  6841400         0.0   \n",
       "2 2010-01-06  130.68  131.4900  129.81  130.00  5605300         0.0   \n",
       "3 2010-01-07  129.87  130.2500  128.91  129.55  5840600         0.0   \n",
       "4 2010-01-08  129.07  130.9199  129.05  130.85  4197200         0.0   \n",
       "\n",
       "   SplitRatio     AdjOpen     AdjHigh      AdjLow    AdjClose  AdjVolume  \n",
       "0           1  107.034744  108.495272  106.765484  108.070985    6155300  \n",
       "1           1  107.442712  107.581422  106.153531  106.765484    6841400  \n",
       "2           1  106.626774  107.287684  105.916909  106.071937    5605300  \n",
       "3           1  105.965865  106.275921  105.182564  105.704765    5840600  \n",
       "4           1  105.313114  106.822518  105.296796  106.765484    4197200  "
      ]
     },
     "execution_count": 56,
     "metadata": {},
     "output_type": "execute_result"
    }
   ],
   "source": [
    "# when we read data in we can choose how to handle date and time values\n",
    "# df_IBM = pd.read_csv('pydata/ibm.csv', parse_dates=True) # we can explicitly import dates and times\n",
    "# df_IBM.describe()\n",
    "\n",
    "df = pd.read_csv('pydata/ibm.csv')\n",
    "df['Date'] = pd.to_datetime(df['Date'], format='%d/%m/%Y')\n",
    "df.dtypes\n",
    "\n",
    "df.head()"
   ]
  },
  {
   "cell_type": "code",
   "execution_count": 49,
   "id": "5d34e41f",
   "metadata": {},
   "outputs": [],
   "source": []
  },
  {
   "cell_type": "code",
   "execution_count": null,
   "id": "0c81e650",
   "metadata": {},
   "outputs": [],
   "source": []
  },
  {
   "cell_type": "code",
   "execution_count": null,
   "id": "a4a8435a",
   "metadata": {},
   "outputs": [],
   "source": []
  },
  {
   "cell_type": "code",
   "execution_count": null,
   "id": "f202aba4",
   "metadata": {},
   "outputs": [],
   "source": []
  }
 ],
 "metadata": {
  "kernelspec": {
   "display_name": "Python 3 (ipykernel)",
   "language": "python",
   "name": "python3"
  },
  "language_info": {
   "codemirror_mode": {
    "name": "ipython",
    "version": 3
   },
   "file_extension": ".py",
   "mimetype": "text/x-python",
   "name": "python",
   "nbconvert_exporter": "python",
   "pygments_lexer": "ipython3",
   "version": "3.9.12"
  }
 },
 "nbformat": 4,
 "nbformat_minor": 5
}
