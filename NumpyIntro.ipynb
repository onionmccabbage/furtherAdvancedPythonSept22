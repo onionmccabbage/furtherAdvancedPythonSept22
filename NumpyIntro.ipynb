{
 "cells": [
  {
   "cell_type": "markdown",
   "id": "eecf08c8",
   "metadata": {},
   "source": [
    "# Numpy Basics"
   ]
  },
  {
   "cell_type": "code",
   "execution_count": 66,
   "id": "e7c5da2a",
   "metadata": {},
   "outputs": [],
   "source": [
    "import numpy as np # by convention we call it np"
   ]
  },
  {
   "cell_type": "code",
   "execution_count": 18,
   "id": "a9281028",
   "metadata": {},
   "outputs": [
    {
     "data": {
      "text/plain": [
       "array([3, 4, 5, 6, 7, 8, 9])"
      ]
     },
     "execution_count": 18,
     "metadata": {},
     "output_type": "execute_result"
    }
   ],
   "source": [
    "# Numpy brings some new data structures and performant routines\n",
    "my_arr = np.arange(3,10) # an array-range can only contain the same data-type\n",
    "my_l = list(my_arr)\n",
    "my_l\n",
    "my_arr"
   ]
  },
  {
   "cell_type": "code",
   "execution_count": 63,
   "id": "12903d7d",
   "metadata": {},
   "outputs": [
    {
     "name": "stdout",
     "output_type": "stream",
     "text": [
      "CPU times: total: 0 ns\n",
      "Wall time: 637 µs\n",
      "CPU times: total: 0 ns\n",
      "Wall time: 2.02 ms\n"
     ]
    }
   ],
   "source": [
    "# the arange is more performant than a list for non-trivial data sets\n",
    "# Jupyter notebooks can use special syntax for immediate code  '%'\n",
    "%time for i in range(1000): my_a2 = my_arr*2\n",
    "%time for i in range(1000): my_l2 = [x*2 for x in my_l] # "
   ]
  },
  {
   "cell_type": "markdown",
   "id": "aa215916",
   "metadata": {},
   "source": [
    "## the n-dimensional array"
   ]
  },
  {
   "cell_type": "code",
   "execution_count": 70,
   "id": "f54920c4",
   "metadata": {},
   "outputs": [
    {
     "data": {
      "text/plain": [
       "dtype('float64')"
      ]
     },
     "execution_count": 70,
     "metadata": {},
     "output_type": "execute_result"
    }
   ],
   "source": [
    "data = np.random.randn(2,3)\n",
    "data\n",
    "data.shape\n",
    "data.dtype"
   ]
  },
  {
   "cell_type": "code",
   "execution_count": 71,
   "id": "52fec9d9",
   "metadata": {},
   "outputs": [
    {
     "data": {
      "text/plain": [
       "dtype('int32')"
      ]
     },
     "execution_count": 71,
     "metadata": {},
     "output_type": "execute_result"
    }
   ],
   "source": [
    "data1 = [6,7,5,3,1]\n",
    "arr1 = np.array(data1)\n",
    "arr1.dtype"
   ]
  },
  {
   "cell_type": "code",
   "execution_count": 78,
   "id": "b3d77ed1",
   "metadata": {},
   "outputs": [
    {
     "data": {
      "text/plain": [
       "array([[[7.51803366e-312, 3.16202013e-322],\n",
       "        [0.00000000e+000, 0.00000000e+000],\n",
       "        [1.20953760e-312, 9.83920581e-072]],\n",
       "\n",
       "       [[9.33610908e+164, 1.20885784e+161],\n",
       "        [6.18632106e+169, 2.44948423e-056],\n",
       "        [1.64693286e+185, 4.27480633e-033]]])"
      ]
     },
     "execution_count": 78,
     "metadata": {},
     "output_type": "execute_result"
    }
   ],
   "source": [
    "# we can populate automatically\n",
    "np.zeros((3,6))\n",
    "np.empty((2,3,2)) # empty will not actually be empty!"
   ]
  },
  {
   "cell_type": "code",
   "execution_count": 79,
   "id": "bfd39d22",
   "metadata": {},
   "outputs": [
    {
     "data": {
      "text/plain": [
       "array([b'6', b'7', b'5', b'3', b'1'], dtype='|S11')"
      ]
     },
     "execution_count": 79,
     "metadata": {},
     "output_type": "execute_result"
    }
   ],
   "source": [
    "# data types\n",
    "arr3 = arr1.astype(np.string_)\n",
    "arr3"
   ]
  },
  {
   "cell_type": "code",
   "execution_count": 83,
   "id": "285881a0",
   "metadata": {},
   "outputs": [
    {
     "data": {
      "text/plain": [
       "array([ True,  True,  True, False, False])"
      ]
     },
     "execution_count": 83,
     "metadata": {},
     "output_type": "execute_result"
    }
   ],
   "source": [
    "#Maths\n",
    "arr1**arr1\n",
    "arr1 >3"
   ]
  },
  {
   "cell_type": "code",
   "execution_count": 88,
   "id": "078d8391",
   "metadata": {},
   "outputs": [
    {
     "data": {
      "text/plain": [
       "array([8, 6, 4])"
      ]
     },
     "execution_count": 88,
     "metadata": {},
     "output_type": "execute_result"
    }
   ],
   "source": [
    "# indexing and slicing\n",
    "c = np.arange(10, 0, -1)\n",
    "c[2:8:2] # exactly as in Python"
   ]
  },
  {
   "cell_type": "code",
   "execution_count": 93,
   "id": "78d19383",
   "metadata": {},
   "outputs": [
    {
     "data": {
      "text/plain": [
       "array([[ 0.32291992,  1.04093545],\n",
       "       [ 0.73406577,  1.38711096],\n",
       "       [ 0.55090296, -0.33715673]])"
      ]
     },
     "execution_count": 93,
     "metadata": {},
     "output_type": "execute_result"
    }
   ],
   "source": [
    "# transposition\n",
    "data.T"
   ]
  },
  {
   "cell_type": "code",
   "execution_count": 95,
   "id": "fef712a2",
   "metadata": {},
   "outputs": [
    {
     "data": {
      "text/plain": [
       "array([[1.38115475, 2.08353459, 1.73481878],\n",
       "       [2.83186485, 4.00326772, 0.71379696]])"
      ]
     },
     "execution_count": 95,
     "metadata": {},
     "output_type": "execute_result"
    }
   ],
   "source": [
    "# statistics\n",
    "np.exp(data)"
   ]
  },
  {
   "cell_type": "code",
   "execution_count": null,
   "id": "d20a8241",
   "metadata": {},
   "outputs": [],
   "source": []
  },
  {
   "cell_type": "code",
   "execution_count": null,
   "id": "e56245a9",
   "metadata": {},
   "outputs": [],
   "source": []
  },
  {
   "cell_type": "code",
   "execution_count": null,
   "id": "867b6a9d",
   "metadata": {},
   "outputs": [],
   "source": []
  }
 ],
 "metadata": {
  "kernelspec": {
   "display_name": "Python 3 (ipykernel)",
   "language": "python",
   "name": "python3"
  },
  "language_info": {
   "codemirror_mode": {
    "name": "ipython",
    "version": 3
   },
   "file_extension": ".py",
   "mimetype": "text/x-python",
   "name": "python",
   "nbconvert_exporter": "python",
   "pygments_lexer": "ipython3",
   "version": "3.9.12"
  }
 },
 "nbformat": 4,
 "nbformat_minor": 5
}
